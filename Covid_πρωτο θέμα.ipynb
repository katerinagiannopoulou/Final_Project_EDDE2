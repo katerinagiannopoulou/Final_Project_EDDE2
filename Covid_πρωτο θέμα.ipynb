{
  "nbformat": 4,
  "nbformat_minor": 0,
  "metadata": {
    "colab": {
      "name": "Covid.ipynb",
      "provenance": [],
      "collapsed_sections": []
    },
    "kernelspec": {
      "name": "python3",
      "display_name": "Python 3"
    },
    "language_info": {
      "name": "python"
    }
  },
  "cells": [
    {
      "cell_type": "code",
      "metadata": {
        "colab": {
          "base_uri": "https://localhost:8080/"
        },
        "id": "yYUGmWw6_Lyv",
        "outputId": "0c8faab5-8c55-4065-ebd7-9f84eacab0d0"
      },
      "source": [
        "!pip install selenium\n",
        "!apt-get update # to update ubuntu to correctly run apt install\n",
        "!apt install chromium-chromedriver\n",
        "!cp /usr/lib/chromium-browser/chromedriver /usr/bin\n",
        "import sys\n",
        "sys.path.insert(0,'/usr/lib/chromium-browser/chromedriver')\n",
        "from selenium import webdriver\n",
        "chrome_options = webdriver.ChromeOptions()\n",
        "chrome_options.add_argument('--headless')\n",
        "chrome_options.add_argument('--no-sandbox')\n",
        "chrome_options.add_argument('--disable-dev-shm-usage')\n",
        "driver = webdriver.Chrome('chromedriver',chrome_options=chrome_options)"
      ],
      "execution_count": null,
      "outputs": [
        {
          "output_type": "stream",
          "text": [
            "Collecting selenium\n",
            "\u001b[?25l  Downloading https://files.pythonhosted.org/packages/80/d6/4294f0b4bce4de0abf13e17190289f9d0613b0a44e5dd6a7f5ca98459853/selenium-3.141.0-py2.py3-none-any.whl (904kB)\n",
            "\u001b[K     |████████████████████████████████| 911kB 6.9MB/s \n",
            "\u001b[?25hRequirement already satisfied: urllib3 in /usr/local/lib/python3.7/dist-packages (from selenium) (1.24.3)\n",
            "Installing collected packages: selenium\n",
            "Successfully installed selenium-3.141.0\n",
            "Get:1 https://cloud.r-project.org/bin/linux/ubuntu bionic-cran40/ InRelease [3,626 B]\n",
            "Ign:2 https://developer.download.nvidia.com/compute/cuda/repos/ubuntu1804/x86_64  InRelease\n",
            "Ign:3 https://developer.download.nvidia.com/compute/machine-learning/repos/ubuntu1804/x86_64  InRelease\n",
            "Get:4 https://developer.download.nvidia.com/compute/cuda/repos/ubuntu1804/x86_64  Release [697 B]\n",
            "Hit:5 https://developer.download.nvidia.com/compute/machine-learning/repos/ubuntu1804/x86_64  Release\n",
            "Get:6 https://developer.download.nvidia.com/compute/cuda/repos/ubuntu1804/x86_64  Release.gpg [836 B]\n",
            "Get:7 http://security.ubuntu.com/ubuntu bionic-security InRelease [88.7 kB]\n",
            "Hit:8 http://archive.ubuntu.com/ubuntu bionic InRelease\n",
            "Get:9 http://ppa.launchpad.net/c2d4u.team/c2d4u4.0+/ubuntu bionic InRelease [15.9 kB]\n",
            "Get:10 http://archive.ubuntu.com/ubuntu bionic-updates InRelease [88.7 kB]\n",
            "Ign:12 https://developer.download.nvidia.com/compute/cuda/repos/ubuntu1804/x86_64  Packages\n",
            "Get:12 https://developer.download.nvidia.com/compute/cuda/repos/ubuntu1804/x86_64  Packages [599 kB]\n",
            "Hit:13 http://ppa.launchpad.net/cran/libgit2/ubuntu bionic InRelease\n",
            "Get:14 http://archive.ubuntu.com/ubuntu bionic-backports InRelease [74.6 kB]\n",
            "Get:15 http://ppa.launchpad.net/deadsnakes/ppa/ubuntu bionic InRelease [15.9 kB]\n",
            "Get:16 http://security.ubuntu.com/ubuntu bionic-security/main amd64 Packages [2,221 kB]\n",
            "Get:17 http://ppa.launchpad.net/graphics-drivers/ppa/ubuntu bionic InRelease [21.3 kB]\n",
            "Get:18 http://security.ubuntu.com/ubuntu bionic-security/restricted amd64 Packages [473 kB]\n",
            "Get:19 http://security.ubuntu.com/ubuntu bionic-security/universe amd64 Packages [1,418 kB]\n",
            "Get:20 http://ppa.launchpad.net/c2d4u.team/c2d4u4.0+/ubuntu bionic/main Sources [1,777 kB]\n",
            "Get:21 http://archive.ubuntu.com/ubuntu bionic-updates/universe amd64 Packages [2,188 kB]\n",
            "Get:22 http://archive.ubuntu.com/ubuntu bionic-updates/restricted amd64 Packages [505 kB]\n",
            "Get:23 http://archive.ubuntu.com/ubuntu bionic-updates/main amd64 Packages [2,654 kB]\n",
            "Get:24 http://ppa.launchpad.net/c2d4u.team/c2d4u4.0+/ubuntu bionic/main amd64 Packages [909 kB]\n",
            "Get:25 http://ppa.launchpad.net/deadsnakes/ppa/ubuntu bionic/main amd64 Packages [40.9 kB]\n",
            "Get:26 http://ppa.launchpad.net/graphics-drivers/ppa/ubuntu bionic/main amd64 Packages [41.5 kB]\n",
            "Fetched 13.1 MB in 5s (2,706 kB/s)\n",
            "Reading package lists... Done\n",
            "Reading package lists... Done\n",
            "Building dependency tree       \n",
            "Reading state information... Done\n",
            "The following additional packages will be installed:\n",
            "  chromium-browser chromium-browser-l10n chromium-codecs-ffmpeg-extra\n",
            "Suggested packages:\n",
            "  webaccounts-chromium-extension unity-chromium-extension\n",
            "The following NEW packages will be installed:\n",
            "  chromium-browser chromium-browser-l10n chromium-chromedriver\n",
            "  chromium-codecs-ffmpeg-extra\n",
            "0 upgraded, 4 newly installed, 0 to remove and 81 not upgraded.\n",
            "Need to get 86.0 MB of archives.\n",
            "After this operation, 298 MB of additional disk space will be used.\n",
            "Get:1 http://archive.ubuntu.com/ubuntu bionic-updates/universe amd64 chromium-codecs-ffmpeg-extra amd64 91.0.4472.101-0ubuntu0.18.04.1 [1,124 kB]\n",
            "Get:2 http://archive.ubuntu.com/ubuntu bionic-updates/universe amd64 chromium-browser amd64 91.0.4472.101-0ubuntu0.18.04.1 [76.1 MB]\n",
            "Get:3 http://archive.ubuntu.com/ubuntu bionic-updates/universe amd64 chromium-browser-l10n all 91.0.4472.101-0ubuntu0.18.04.1 [3,937 kB]\n",
            "Get:4 http://archive.ubuntu.com/ubuntu bionic-updates/universe amd64 chromium-chromedriver amd64 91.0.4472.101-0ubuntu0.18.04.1 [4,837 kB]\n",
            "Fetched 86.0 MB in 5s (15.7 MB/s)\n",
            "Selecting previously unselected package chromium-codecs-ffmpeg-extra.\n",
            "(Reading database ... 160772 files and directories currently installed.)\n",
            "Preparing to unpack .../chromium-codecs-ffmpeg-extra_91.0.4472.101-0ubuntu0.18.04.1_amd64.deb ...\n",
            "Unpacking chromium-codecs-ffmpeg-extra (91.0.4472.101-0ubuntu0.18.04.1) ...\n",
            "Selecting previously unselected package chromium-browser.\n",
            "Preparing to unpack .../chromium-browser_91.0.4472.101-0ubuntu0.18.04.1_amd64.deb ...\n",
            "Unpacking chromium-browser (91.0.4472.101-0ubuntu0.18.04.1) ...\n",
            "Selecting previously unselected package chromium-browser-l10n.\n",
            "Preparing to unpack .../chromium-browser-l10n_91.0.4472.101-0ubuntu0.18.04.1_all.deb ...\n",
            "Unpacking chromium-browser-l10n (91.0.4472.101-0ubuntu0.18.04.1) ...\n",
            "Selecting previously unselected package chromium-chromedriver.\n",
            "Preparing to unpack .../chromium-chromedriver_91.0.4472.101-0ubuntu0.18.04.1_amd64.deb ...\n",
            "Unpacking chromium-chromedriver (91.0.4472.101-0ubuntu0.18.04.1) ...\n",
            "Setting up chromium-codecs-ffmpeg-extra (91.0.4472.101-0ubuntu0.18.04.1) ...\n",
            "Setting up chromium-browser (91.0.4472.101-0ubuntu0.18.04.1) ...\n",
            "update-alternatives: using /usr/bin/chromium-browser to provide /usr/bin/x-www-browser (x-www-browser) in auto mode\n",
            "update-alternatives: using /usr/bin/chromium-browser to provide /usr/bin/gnome-www-browser (gnome-www-browser) in auto mode\n",
            "Setting up chromium-chromedriver (91.0.4472.101-0ubuntu0.18.04.1) ...\n",
            "Setting up chromium-browser-l10n (91.0.4472.101-0ubuntu0.18.04.1) ...\n",
            "Processing triggers for man-db (2.8.3-2ubuntu0.1) ...\n",
            "Processing triggers for hicolor-icon-theme (0.17-2) ...\n",
            "Processing triggers for mime-support (3.60ubuntu1) ...\n",
            "Processing triggers for libc-bin (2.27-3ubuntu1.2) ...\n",
            "/sbin/ldconfig.real: /usr/local/lib/python3.7/dist-packages/ideep4py/lib/libmkldnn.so.0 is not a symbolic link\n",
            "\n",
            "cp: '/usr/lib/chromium-browser/chromedriver' and '/usr/bin/chromedriver' are the same file\n"
          ],
          "name": "stdout"
        },
        {
          "output_type": "stream",
          "text": [
            "/usr/local/lib/python3.7/dist-packages/ipykernel_launcher.py:12: DeprecationWarning: use options instead of chrome_options\n",
            "  if sys.path[0] == '':\n"
          ],
          "name": "stderr"
        }
      ]
    },
    {
      "cell_type": "code",
      "metadata": {
        "id": "c8nhPv2C_M07"
      },
      "source": [
        "import time\n",
        "\n",
        "from bs4 import BeautifulSoup\n",
        "\n",
        "#driver = webdriver.Chrome()\n",
        "driver.implicitly_wait(30)\n",
        "\n",
        "# download webdriver from https://chromedriver.storage.googleapis.com/index.html?path=83.0.4103.39/\n",
        "# and put the executable in /usr/local/bin\n"
      ],
      "execution_count": null,
      "outputs": []
    },
    {
      "cell_type": "code",
      "metadata": {
        "colab": {
          "base_uri": "https://localhost:8080/"
        },
        "id": "BmnGzHvv_irg",
        "outputId": "42fc1ac3-b70e-4252-cc28-a44c0432c722"
      },
      "source": [
        "try:\n",
        "    SCROLL_PAUSE_TIME = 3.5\n",
        "    driver.get(\"https://www.protothema.gr/anazitisi/?q=covid\")\n",
        "\n",
        "\n",
        "    last_height = driver.execute_script(\"return document.body.scrollHeight\")\n",
        "\n",
        "    while (last_height < 42000):\n",
        "        driver.execute_script(\"window.scrollTo(0, document.body.scrollHeight);\")\n",
        "        time.sleep(SCROLL_PAUSE_TIME)\n",
        "        new_height = driver.execute_script(\"return document.body.scrollHeight\")\n",
        "        print('height:', new_height)\n",
        "        if new_height == last_height:\n",
        "            print('height =' , new_height)\n",
        "            break\n",
        "        last_height = new_height\n",
        "\n",
        "\n",
        "\n",
        "finally:\n",
        "#    driver.quit()\n",
        "    print(\"OK\")"
      ],
      "execution_count": null,
      "outputs": [
        {
          "output_type": "stream",
          "text": [
            "height: 5713\n",
            "height: 8013\n",
            "height: 10194\n",
            "height: 12263\n",
            "height: 14531\n",
            "height: 16536\n",
            "height: 16536\n",
            "height = 16536\n",
            "OK\n"
          ],
          "name": "stdout"
        }
      ]
    },
    {
      "cell_type": "code",
      "metadata": {
        "id": "_szNY5XJ_mrZ"
      },
      "source": [
        "soup = BeautifulSoup(driver.page_source, \"html.parser\")"
      ],
      "execution_count": null,
      "outputs": []
    },
    {
      "cell_type": "code",
      "metadata": {
        "id": "puArCq_E_qE_"
      },
      "source": [
        "stories_list = []\n",
        "\n",
        "stories = soup.find_all('div', { 'class': 'article' })\n",
        "\n",
        "for story in stories:\n",
        "    heading = story.find('h3')\n",
        "    link = heading.find('a')\n",
        "    date = story.find('time')\n",
        "    datetime = date['datetime']\n",
        "\n",
        "    \n",
        "    story_dict = {\n",
        "        'headline': heading.text,\n",
        "        'url': link['href'],\n",
        "        'date': datetime\n",
        "    }\n",
        "     \n",
        "    # Πρόσθεσε το λέξικο στη λίστα\n",
        "    stories_list.append(story_dict)"
      ],
      "execution_count": null,
      "outputs": []
    },
    {
      "cell_type": "code",
      "metadata": {
        "colab": {
          "base_uri": "https://localhost:8080/"
        },
        "id": "cVaggyeV_sf4",
        "outputId": "318c4e27-b192-4f9a-8dd1-9cc1c8a8210a"
      },
      "source": [
        "print(len(stories_list))"
      ],
      "execution_count": null,
      "outputs": [
        {
          "output_type": "stream",
          "text": [
            "70\n"
          ],
          "name": "stdout"
        }
      ]
    },
    {
      "cell_type": "code",
      "metadata": {
        "id": "ypjXw88x_3dT"
      },
      "source": [
        "import pandas as pd\n",
        "df = pd.DataFrame(stories_list)"
      ],
      "execution_count": null,
      "outputs": []
    },
    {
      "cell_type": "code",
      "metadata": {
        "colab": {
          "base_uri": "https://localhost:8080/",
          "height": 420
        },
        "id": "3-eMn3IS_9Uc",
        "outputId": "48a97ddb-f00e-4c32-d4f6-a3cbe84b0bd8"
      },
      "source": [
        "df\n"
      ],
      "execution_count": null,
      "outputs": [
        {
          "output_type": "execute_result",
          "data": {
            "text/html": [
              "<div>\n",
              "<style scoped>\n",
              "    .dataframe tbody tr th:only-of-type {\n",
              "        vertical-align: middle;\n",
              "    }\n",
              "\n",
              "    .dataframe tbody tr th {\n",
              "        vertical-align: top;\n",
              "    }\n",
              "\n",
              "    .dataframe thead th {\n",
              "        text-align: right;\n",
              "    }\n",
              "</style>\n",
              "<table border=\"1\" class=\"dataframe\">\n",
              "  <thead>\n",
              "    <tr style=\"text-align: right;\">\n",
              "      <th></th>\n",
              "      <th>headline</th>\n",
              "      <th>url</th>\n",
              "      <th>date</th>\n",
              "    </tr>\n",
              "  </thead>\n",
              "  <tbody>\n",
              "    <tr>\n",
              "      <th>0</th>\n",
              "      <td>\\nΚομισιόν: Στο χαρτοφυλάκιο θεραπευτικών προϊ...</td>\n",
              "      <td>https://www.protothema.gr/koronoios-live/artic...</td>\n",
              "      <td>2021-06-29T15:18:00+03:00</td>\n",
              "    </tr>\n",
              "    <tr>\n",
              "      <th>1</th>\n",
              "      <td>\\nΈρχεται σύσταση για εμβολιασμό εφήβων 15-17 ...</td>\n",
              "      <td>https://www.protothema.gr/greece/article/11383...</td>\n",
              "      <td>2021-06-29T14:43:00+03:00</td>\n",
              "    </tr>\n",
              "    <tr>\n",
              "      <th>2</th>\n",
              "      <td>\\nΙαπωνία: Η αύξηση των κρουσμάτων προκαλεί φό...</td>\n",
              "      <td>https://www.protothema.gr/world/article/113834...</td>\n",
              "      <td>2021-06-29T14:36:00+03:00</td>\n",
              "    </tr>\n",
              "    <tr>\n",
              "      <th>3</th>\n",
              "      <td>\\n Τον υποχρεωτικό εμβολιασμό εξετάζει η Πολων...</td>\n",
              "      <td>https://www.protothema.gr/world/article/113831...</td>\n",
              "      <td>2021-06-29T12:41:00+03:00</td>\n",
              "    </tr>\n",
              "    <tr>\n",
              "      <th>4</th>\n",
              "      <td>\\n«Φοβού» τα €150 και εμβόλια φέροντας\\n</td>\n",
              "      <td>https://www.protothema.gr/blogs/makis-pollatos...</td>\n",
              "      <td>2021-06-29T11:03:00+03:00</td>\n",
              "    </tr>\n",
              "    <tr>\n",
              "      <th>...</th>\n",
              "      <td>...</td>\n",
              "      <td>...</td>\n",
              "      <td>...</td>\n",
              "    </tr>\n",
              "    <tr>\n",
              "      <th>65</th>\n",
              "      <td>\\nΈκτακτο δελτίο καιρού: Καύσωνας μέχρι 41 βαθ...</td>\n",
              "      <td>https://www.protothema.gr/greece/article/11360...</td>\n",
              "      <td>2021-06-22T13:42:00+03:00</td>\n",
              "    </tr>\n",
              "    <tr>\n",
              "      <th>66</th>\n",
              "      <td>\\nΗ Βρετανία εξετάζει να εξαιρέσει τους πλήρως...</td>\n",
              "      <td>https://www.protothema.gr/world/article/113600...</td>\n",
              "      <td>2021-06-22T13:38:00+03:00</td>\n",
              "    </tr>\n",
              "    <tr>\n",
              "      <th>67</th>\n",
              "      <td>\\nSurvivor: Μπόγδανος, Ρουμελιώτη, Ασημακόπουλ...</td>\n",
              "      <td>https://www.protothema.gr/life-style/article/1...</td>\n",
              "      <td>2021-06-22T13:35:00+03:00</td>\n",
              "    </tr>\n",
              "    <tr>\n",
              "      <th>68</th>\n",
              "      <td>\\nΑποκάλυψη για Τραμπ: Σκεφτόταν να στείλει μο...</td>\n",
              "      <td>https://www.protothema.gr/world/article/113599...</td>\n",
              "      <td>2021-06-22T13:02:00+03:00</td>\n",
              "    </tr>\n",
              "    <tr>\n",
              "      <th>69</th>\n",
              "      <td>\\nΚορωνοϊός: Το ευαίσθητο όργανο – στόχος του ...</td>\n",
              "      <td>https://www.protothema.gr/zoi/article/1135902/...</td>\n",
              "      <td>2021-06-22T12:56:00+03:00</td>\n",
              "    </tr>\n",
              "  </tbody>\n",
              "</table>\n",
              "<p>70 rows × 3 columns</p>\n",
              "</div>"
            ],
            "text/plain": [
              "                                             headline  ...                       date\n",
              "0   \\nΚομισιόν: Στο χαρτοφυλάκιο θεραπευτικών προϊ...  ...  2021-06-29T15:18:00+03:00\n",
              "1   \\nΈρχεται σύσταση για εμβολιασμό εφήβων 15-17 ...  ...  2021-06-29T14:43:00+03:00\n",
              "2   \\nΙαπωνία: Η αύξηση των κρουσμάτων προκαλεί φό...  ...  2021-06-29T14:36:00+03:00\n",
              "3   \\n Τον υποχρεωτικό εμβολιασμό εξετάζει η Πολων...  ...  2021-06-29T12:41:00+03:00\n",
              "4            \\n«Φοβού» τα €150 και εμβόλια φέροντας\\n  ...  2021-06-29T11:03:00+03:00\n",
              "..                                                ...  ...                        ...\n",
              "65  \\nΈκτακτο δελτίο καιρού: Καύσωνας μέχρι 41 βαθ...  ...  2021-06-22T13:42:00+03:00\n",
              "66  \\nΗ Βρετανία εξετάζει να εξαιρέσει τους πλήρως...  ...  2021-06-22T13:38:00+03:00\n",
              "67  \\nSurvivor: Μπόγδανος, Ρουμελιώτη, Ασημακόπουλ...  ...  2021-06-22T13:35:00+03:00\n",
              "68  \\nΑποκάλυψη για Τραμπ: Σκεφτόταν να στείλει μο...  ...  2021-06-22T13:02:00+03:00\n",
              "69  \\nΚορωνοϊός: Το ευαίσθητο όργανο – στόχος του ...  ...  2021-06-22T12:56:00+03:00\n",
              "\n",
              "[70 rows x 3 columns]"
            ]
          },
          "metadata": {
            "tags": []
          },
          "execution_count": 12
        }
      ]
    },
    {
      "cell_type": "code",
      "metadata": {
        "colab": {
          "base_uri": "https://localhost:8080/",
          "height": 420
        },
        "id": "nvFz48Jz__cb",
        "outputId": "4d332499-eff1-4d4f-cf0f-81d9180a46f9"
      },
      "source": [
        "df.sort_values(by='date', ascending = False)\n"
      ],
      "execution_count": null,
      "outputs": [
        {
          "output_type": "execute_result",
          "data": {
            "text/html": [
              "<div>\n",
              "<style scoped>\n",
              "    .dataframe tbody tr th:only-of-type {\n",
              "        vertical-align: middle;\n",
              "    }\n",
              "\n",
              "    .dataframe tbody tr th {\n",
              "        vertical-align: top;\n",
              "    }\n",
              "\n",
              "    .dataframe thead th {\n",
              "        text-align: right;\n",
              "    }\n",
              "</style>\n",
              "<table border=\"1\" class=\"dataframe\">\n",
              "  <thead>\n",
              "    <tr style=\"text-align: right;\">\n",
              "      <th></th>\n",
              "      <th>headline</th>\n",
              "      <th>url</th>\n",
              "      <th>date</th>\n",
              "    </tr>\n",
              "  </thead>\n",
              "  <tbody>\n",
              "    <tr>\n",
              "      <th>0</th>\n",
              "      <td>\\nΚομισιόν: Στο χαρτοφυλάκιο θεραπευτικών προϊ...</td>\n",
              "      <td>https://www.protothema.gr/koronoios-live/artic...</td>\n",
              "      <td>2021-06-29T15:18:00+03:00</td>\n",
              "    </tr>\n",
              "    <tr>\n",
              "      <th>1</th>\n",
              "      <td>\\nΈρχεται σύσταση για εμβολιασμό εφήβων 15-17 ...</td>\n",
              "      <td>https://www.protothema.gr/greece/article/11383...</td>\n",
              "      <td>2021-06-29T14:43:00+03:00</td>\n",
              "    </tr>\n",
              "    <tr>\n",
              "      <th>2</th>\n",
              "      <td>\\nΙαπωνία: Η αύξηση των κρουσμάτων προκαλεί φό...</td>\n",
              "      <td>https://www.protothema.gr/world/article/113834...</td>\n",
              "      <td>2021-06-29T14:36:00+03:00</td>\n",
              "    </tr>\n",
              "    <tr>\n",
              "      <th>3</th>\n",
              "      <td>\\n Τον υποχρεωτικό εμβολιασμό εξετάζει η Πολων...</td>\n",
              "      <td>https://www.protothema.gr/world/article/113831...</td>\n",
              "      <td>2021-06-29T12:41:00+03:00</td>\n",
              "    </tr>\n",
              "    <tr>\n",
              "      <th>4</th>\n",
              "      <td>\\n«Φοβού» τα €150 και εμβόλια φέροντας\\n</td>\n",
              "      <td>https://www.protothema.gr/blogs/makis-pollatos...</td>\n",
              "      <td>2021-06-29T11:03:00+03:00</td>\n",
              "    </tr>\n",
              "    <tr>\n",
              "      <th>...</th>\n",
              "      <td>...</td>\n",
              "      <td>...</td>\n",
              "      <td>...</td>\n",
              "    </tr>\n",
              "    <tr>\n",
              "      <th>65</th>\n",
              "      <td>\\nΈκτακτο δελτίο καιρού: Καύσωνας μέχρι 41 βαθ...</td>\n",
              "      <td>https://www.protothema.gr/greece/article/11360...</td>\n",
              "      <td>2021-06-22T13:42:00+03:00</td>\n",
              "    </tr>\n",
              "    <tr>\n",
              "      <th>66</th>\n",
              "      <td>\\nΗ Βρετανία εξετάζει να εξαιρέσει τους πλήρως...</td>\n",
              "      <td>https://www.protothema.gr/world/article/113600...</td>\n",
              "      <td>2021-06-22T13:38:00+03:00</td>\n",
              "    </tr>\n",
              "    <tr>\n",
              "      <th>67</th>\n",
              "      <td>\\nSurvivor: Μπόγδανος, Ρουμελιώτη, Ασημακόπουλ...</td>\n",
              "      <td>https://www.protothema.gr/life-style/article/1...</td>\n",
              "      <td>2021-06-22T13:35:00+03:00</td>\n",
              "    </tr>\n",
              "    <tr>\n",
              "      <th>68</th>\n",
              "      <td>\\nΑποκάλυψη για Τραμπ: Σκεφτόταν να στείλει μο...</td>\n",
              "      <td>https://www.protothema.gr/world/article/113599...</td>\n",
              "      <td>2021-06-22T13:02:00+03:00</td>\n",
              "    </tr>\n",
              "    <tr>\n",
              "      <th>69</th>\n",
              "      <td>\\nΚορωνοϊός: Το ευαίσθητο όργανο – στόχος του ...</td>\n",
              "      <td>https://www.protothema.gr/zoi/article/1135902/...</td>\n",
              "      <td>2021-06-22T12:56:00+03:00</td>\n",
              "    </tr>\n",
              "  </tbody>\n",
              "</table>\n",
              "<p>70 rows × 3 columns</p>\n",
              "</div>"
            ],
            "text/plain": [
              "                                             headline  ...                       date\n",
              "0   \\nΚομισιόν: Στο χαρτοφυλάκιο θεραπευτικών προϊ...  ...  2021-06-29T15:18:00+03:00\n",
              "1   \\nΈρχεται σύσταση για εμβολιασμό εφήβων 15-17 ...  ...  2021-06-29T14:43:00+03:00\n",
              "2   \\nΙαπωνία: Η αύξηση των κρουσμάτων προκαλεί φό...  ...  2021-06-29T14:36:00+03:00\n",
              "3   \\n Τον υποχρεωτικό εμβολιασμό εξετάζει η Πολων...  ...  2021-06-29T12:41:00+03:00\n",
              "4            \\n«Φοβού» τα €150 και εμβόλια φέροντας\\n  ...  2021-06-29T11:03:00+03:00\n",
              "..                                                ...  ...                        ...\n",
              "65  \\nΈκτακτο δελτίο καιρού: Καύσωνας μέχρι 41 βαθ...  ...  2021-06-22T13:42:00+03:00\n",
              "66  \\nΗ Βρετανία εξετάζει να εξαιρέσει τους πλήρως...  ...  2021-06-22T13:38:00+03:00\n",
              "67  \\nSurvivor: Μπόγδανος, Ρουμελιώτη, Ασημακόπουλ...  ...  2021-06-22T13:35:00+03:00\n",
              "68  \\nΑποκάλυψη για Τραμπ: Σκεφτόταν να στείλει μο...  ...  2021-06-22T13:02:00+03:00\n",
              "69  \\nΚορωνοϊός: Το ευαίσθητο όργανο – στόχος του ...  ...  2021-06-22T12:56:00+03:00\n",
              "\n",
              "[70 rows x 3 columns]"
            ]
          },
          "metadata": {
            "tags": []
          },
          "execution_count": 13
        }
      ]
    },
    {
      "cell_type": "code",
      "metadata": {
        "colab": {
          "base_uri": "https://localhost:8080/",
          "height": 204
        },
        "id": "6RElpNryAC2N",
        "outputId": "da20106b-f59b-45fd-dc81-f3ad5b0e9d3f"
      },
      "source": [
        "df.tail()\n"
      ],
      "execution_count": null,
      "outputs": [
        {
          "output_type": "execute_result",
          "data": {
            "text/html": [
              "<div>\n",
              "<style scoped>\n",
              "    .dataframe tbody tr th:only-of-type {\n",
              "        vertical-align: middle;\n",
              "    }\n",
              "\n",
              "    .dataframe tbody tr th {\n",
              "        vertical-align: top;\n",
              "    }\n",
              "\n",
              "    .dataframe thead th {\n",
              "        text-align: right;\n",
              "    }\n",
              "</style>\n",
              "<table border=\"1\" class=\"dataframe\">\n",
              "  <thead>\n",
              "    <tr style=\"text-align: right;\">\n",
              "      <th></th>\n",
              "      <th>headline</th>\n",
              "      <th>url</th>\n",
              "      <th>date</th>\n",
              "    </tr>\n",
              "  </thead>\n",
              "  <tbody>\n",
              "    <tr>\n",
              "      <th>65</th>\n",
              "      <td>\\nΈκτακτο δελτίο καιρού: Καύσωνας μέχρι 41 βαθ...</td>\n",
              "      <td>https://www.protothema.gr/greece/article/11360...</td>\n",
              "      <td>2021-06-22T13:42:00+03:00</td>\n",
              "    </tr>\n",
              "    <tr>\n",
              "      <th>66</th>\n",
              "      <td>\\nΗ Βρετανία εξετάζει να εξαιρέσει τους πλήρως...</td>\n",
              "      <td>https://www.protothema.gr/world/article/113600...</td>\n",
              "      <td>2021-06-22T13:38:00+03:00</td>\n",
              "    </tr>\n",
              "    <tr>\n",
              "      <th>67</th>\n",
              "      <td>\\nSurvivor: Μπόγδανος, Ρουμελιώτη, Ασημακόπουλ...</td>\n",
              "      <td>https://www.protothema.gr/life-style/article/1...</td>\n",
              "      <td>2021-06-22T13:35:00+03:00</td>\n",
              "    </tr>\n",
              "    <tr>\n",
              "      <th>68</th>\n",
              "      <td>\\nΑποκάλυψη για Τραμπ: Σκεφτόταν να στείλει μο...</td>\n",
              "      <td>https://www.protothema.gr/world/article/113599...</td>\n",
              "      <td>2021-06-22T13:02:00+03:00</td>\n",
              "    </tr>\n",
              "    <tr>\n",
              "      <th>69</th>\n",
              "      <td>\\nΚορωνοϊός: Το ευαίσθητο όργανο – στόχος του ...</td>\n",
              "      <td>https://www.protothema.gr/zoi/article/1135902/...</td>\n",
              "      <td>2021-06-22T12:56:00+03:00</td>\n",
              "    </tr>\n",
              "  </tbody>\n",
              "</table>\n",
              "</div>"
            ],
            "text/plain": [
              "                                             headline  ...                       date\n",
              "65  \\nΈκτακτο δελτίο καιρού: Καύσωνας μέχρι 41 βαθ...  ...  2021-06-22T13:42:00+03:00\n",
              "66  \\nΗ Βρετανία εξετάζει να εξαιρέσει τους πλήρως...  ...  2021-06-22T13:38:00+03:00\n",
              "67  \\nSurvivor: Μπόγδανος, Ρουμελιώτη, Ασημακόπουλ...  ...  2021-06-22T13:35:00+03:00\n",
              "68  \\nΑποκάλυψη για Τραμπ: Σκεφτόταν να στείλει μο...  ...  2021-06-22T13:02:00+03:00\n",
              "69  \\nΚορωνοϊός: Το ευαίσθητο όργανο – στόχος του ...  ...  2021-06-22T12:56:00+03:00\n",
              "\n",
              "[5 rows x 3 columns]"
            ]
          },
          "metadata": {
            "tags": []
          },
          "execution_count": 14
        }
      ]
    },
    {
      "cell_type": "code",
      "metadata": {
        "id": "9V-tZaWsAE6C"
      },
      "source": [
        "df.to_csv(\"Covid.csv\", index=False)\n"
      ],
      "execution_count": null,
      "outputs": []
    },
    {
      "cell_type": "code",
      "metadata": {
        "colab": {
          "base_uri": "https://localhost:8080/"
        },
        "id": "tr14LARlAGxf",
        "outputId": "1a09ee60-7da3-448c-efbd-42b0e743dbdd"
      },
      "source": [
        "!pip install pandas"
      ],
      "execution_count": null,
      "outputs": [
        {
          "output_type": "stream",
          "text": [
            "Requirement already satisfied: pandas in /usr/local/lib/python3.7/dist-packages (1.1.5)\n",
            "Requirement already satisfied: pytz>=2017.2 in /usr/local/lib/python3.7/dist-packages (from pandas) (2018.9)\n",
            "Requirement already satisfied: python-dateutil>=2.7.3 in /usr/local/lib/python3.7/dist-packages (from pandas) (2.8.1)\n",
            "Requirement already satisfied: numpy>=1.15.4 in /usr/local/lib/python3.7/dist-packages (from pandas) (1.19.5)\n",
            "Requirement already satisfied: six>=1.5 in /usr/local/lib/python3.7/dist-packages (from python-dateutil>=2.7.3->pandas) (1.15.0)\n"
          ],
          "name": "stdout"
        }
      ]
    },
    {
      "cell_type": "code",
      "metadata": {
        "id": "qZyYBPPRBMh9"
      },
      "source": [
        "import pandas as pd\n",
        "import numpy as np\n",
        "import matplotlib.pyplot as plt\n",
        "%matplotlib inline"
      ],
      "execution_count": null,
      "outputs": []
    },
    {
      "cell_type": "code",
      "metadata": {
        "colab": {
          "base_uri": "https://localhost:8080/"
        },
        "id": "sNbPCNmjBOcx",
        "outputId": "cde25324-219d-4eee-f380-f3c3d02659c7"
      },
      "source": [
        "from google.colab import drive\n",
        "drive.mount('/gdrive')"
      ],
      "execution_count": null,
      "outputs": [
        {
          "output_type": "stream",
          "text": [
            "Mounted at /gdrive\n"
          ],
          "name": "stdout"
        }
      ]
    },
    {
      "cell_type": "code",
      "metadata": {
        "id": "zKixBSgYBQAQ"
      },
      "source": [
        "df = pd.read_csv(\"/content/drive/MyDrive/Colab Notebooks/Covid.csv\")"
      ],
      "execution_count": null,
      "outputs": []
    },
    {
      "cell_type": "code",
      "metadata": {
        "id": "Oiqv8yvKBWsN"
      },
      "source": [
        ""
      ],
      "execution_count": null,
      "outputs": []
    }
  ]
}
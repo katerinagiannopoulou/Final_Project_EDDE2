{
  "nbformat": 4,
  "nbformat_minor": 0,
  "metadata": {
    "colab": {
      "name": "emvoliasmoi_panelladika_dedomena.ipynb",
      "provenance": [],
      "collapsed_sections": []
    },
    "kernelspec": {
      "name": "python3",
      "display_name": "Python 3"
    },
    "language_info": {
      "name": "python"
    }
  },
  "cells": [
    {
      "cell_type": "code",
      "metadata": {
        "colab": {
          "base_uri": "https://localhost:8080/"
        },
        "id": "DVa4qKZ0Z_Gv",
        "outputId": "a99dd6c2-3e91-4051-f987-f42a9868521e"
      },
      "source": [
        "!pip install pandas"
      ],
      "execution_count": null,
      "outputs": [
        {
          "output_type": "stream",
          "text": [
            "Requirement already satisfied: pandas in /usr/local/lib/python3.7/dist-packages (1.1.5)\n",
            "Requirement already satisfied: python-dateutil>=2.7.3 in /usr/local/lib/python3.7/dist-packages (from pandas) (2.8.1)\n",
            "Requirement already satisfied: pytz>=2017.2 in /usr/local/lib/python3.7/dist-packages (from pandas) (2018.9)\n",
            "Requirement already satisfied: numpy>=1.15.4 in /usr/local/lib/python3.7/dist-packages (from pandas) (1.19.5)\n",
            "Requirement already satisfied: six>=1.5 in /usr/local/lib/python3.7/dist-packages (from python-dateutil>=2.7.3->pandas) (1.15.0)\n"
          ],
          "name": "stdout"
        }
      ]
    },
    {
      "cell_type": "code",
      "metadata": {
        "id": "fMriyt_MaD8J"
      },
      "source": [
        "import pandas as pd\n",
        "import numpy as np\n",
        "import matplotlib.pyplot as plt\n",
        "%matplotlib inline"
      ],
      "execution_count": null,
      "outputs": []
    },
    {
      "cell_type": "code",
      "metadata": {
        "colab": {
          "base_uri": "https://localhost:8080/"
        },
        "id": "3o6MG44CaVoV",
        "outputId": "b30e79ef-ae1c-4c2a-b089-3bffa08762d7"
      },
      "source": [
        "from google.colab import drive\n",
        "drive.mount('/gdrive')"
      ],
      "execution_count": null,
      "outputs": [
        {
          "output_type": "stream",
          "text": [
            "Mounted at /gdrive\n"
          ],
          "name": "stdout"
        }
      ]
    },
    {
      "cell_type": "code",
      "metadata": {
        "id": "iuZDChsFbd6K"
      },
      "source": [
        "#εισάγουμε το αρχείο xsl για τους εμβολιασμούς στην Ελλάδα, το οποίο έχουμε εξορύξει από το gov.gr"
      ],
      "execution_count": null,
      "outputs": []
    },
    {
      "cell_type": "code",
      "metadata": {
        "id": "-RMXvMPVaXr6"
      },
      "source": [
        "df = pd.read_excel(\"/content/εμβολιασμοί.xlsx\", skiprows=2)\n",
        "\n"
      ],
      "execution_count": null,
      "outputs": []
    },
    {
      "cell_type": "code",
      "metadata": {
        "colab": {
          "base_uri": "https://localhost:8080/",
          "height": 1000
        },
        "id": "bsFkQkwWacoX",
        "outputId": "826e79c4-2696-4602-8d47-18969a6d5a25"
      },
      "source": [
        "df"
      ],
      "execution_count": null,
      "outputs": [
        {
          "output_type": "execute_result",
          "data": {
            "text/html": [
              "<div>\n",
              "<style scoped>\n",
              "    .dataframe tbody tr th:only-of-type {\n",
              "        vertical-align: middle;\n",
              "    }\n",
              "\n",
              "    .dataframe tbody tr th {\n",
              "        vertical-align: top;\n",
              "    }\n",
              "\n",
              "    .dataframe thead th {\n",
              "        text-align: right;\n",
              "    }\n",
              "</style>\n",
              "<table border=\"1\" class=\"dataframe\">\n",
              "  <thead>\n",
              "    <tr style=\"text-align: right;\">\n",
              "      <th></th>\n",
              "      <th>Περιφερειακή Ενότητα</th>\n",
              "      <th>Σύνολο εμβολιασμών</th>\n",
              "      <th>με τουλάχιστον 1 δόση</th>\n",
              "      <th>ολοκληρωμένων εμβολιασμών</th>\n",
              "    </tr>\n",
              "  </thead>\n",
              "  <tbody>\n",
              "    <tr>\n",
              "      <th>0</th>\n",
              "      <td>ΘΕΣΣΑΛΟΝΙΚΗΣ</td>\n",
              "      <td>903.841</td>\n",
              "      <td>500.970</td>\n",
              "      <td>414.359</td>\n",
              "    </tr>\n",
              "    <tr>\n",
              "      <th>1</th>\n",
              "      <td>ΚΕΝΤΡΙΚΟΥ ΤΟΜΕΑ ΑΘΗΝΩΝ</td>\n",
              "      <td>901.781</td>\n",
              "      <td>516.889</td>\n",
              "      <td>409.565</td>\n",
              "    </tr>\n",
              "    <tr>\n",
              "      <th>2</th>\n",
              "      <td>ΒΟΡΕΙΟΥ ΤΟΜΕΑ ΑΘΗΝΩΝ</td>\n",
              "      <td>837.761</td>\n",
              "      <td>488.440</td>\n",
              "      <td>358.669</td>\n",
              "    </tr>\n",
              "    <tr>\n",
              "      <th>3</th>\n",
              "      <td>ΔΥΤΙΚΟΥ ΤΟΜΕΑ ΑΘΗΝΩΝ</td>\n",
              "      <td>517.314</td>\n",
              "      <td>306.549</td>\n",
              "      <td>214693</td>\n",
              "    </tr>\n",
              "    <tr>\n",
              "      <th>4</th>\n",
              "      <td>ΝΟΤΙΟΥ ΤΟΜΕΑ ΑΘΗΝΩΝ</td>\n",
              "      <td>439.609</td>\n",
              "      <td>268.945</td>\n",
              "      <td>173.326</td>\n",
              "    </tr>\n",
              "    <tr>\n",
              "      <th>5</th>\n",
              "      <td>ΠΕΙΡΑΙΩΣ</td>\n",
              "      <td>227.884</td>\n",
              "      <td>128.194</td>\n",
              "      <td>103584</td>\n",
              "    </tr>\n",
              "    <tr>\n",
              "      <th>6</th>\n",
              "      <td>ΑΧΑΪΑΣ</td>\n",
              "      <td>226.629</td>\n",
              "      <td>128.745</td>\n",
              "      <td>103.316</td>\n",
              "    </tr>\n",
              "    <tr>\n",
              "      <th>7</th>\n",
              "      <td>ΗΡΑΚΛΕΙΟΥ</td>\n",
              "      <td>210594</td>\n",
              "      <td>122.156</td>\n",
              "      <td>92.049</td>\n",
              "    </tr>\n",
              "    <tr>\n",
              "      <th>8</th>\n",
              "      <td>ΛΑΡΙΣΑΣ</td>\n",
              "      <td>186.958</td>\n",
              "      <td>107.897</td>\n",
              "      <td>82.028</td>\n",
              "    </tr>\n",
              "    <tr>\n",
              "      <th>9</th>\n",
              "      <td>ΑΝΑΤΟΛΙΚΗΣ ΑΤΤΙΚΗΣ</td>\n",
              "      <td>183.706</td>\n",
              "      <td>107.048</td>\n",
              "      <td>78669</td>\n",
              "    </tr>\n",
              "    <tr>\n",
              "      <th>10</th>\n",
              "      <td>ΜΑΓΝΗΣΙΑΣ</td>\n",
              "      <td>140.000</td>\n",
              "      <td>79.518</td>\n",
              "      <td>62.298</td>\n",
              "    </tr>\n",
              "    <tr>\n",
              "      <th>11</th>\n",
              "      <td>ΕΥΒΟΙΑΣ</td>\n",
              "      <td>138.312</td>\n",
              "      <td>78709</td>\n",
              "      <td>63.027</td>\n",
              "    </tr>\n",
              "    <tr>\n",
              "      <th>12</th>\n",
              "      <td>ΧΑΝΙΩΝ</td>\n",
              "      <td>134.511</td>\n",
              "      <td>76.254</td>\n",
              "      <td>59.962</td>\n",
              "    </tr>\n",
              "    <tr>\n",
              "      <th>13</th>\n",
              "      <td>ΙΩΑΝΝΙΝΩΝ</td>\n",
              "      <td>131961</td>\n",
              "      <td>76.503</td>\n",
              "      <td>58.993</td>\n",
              "    </tr>\n",
              "    <tr>\n",
              "      <th>14</th>\n",
              "      <td>ΑΙΤΩΛΟΑΚΑΡΝΑΝΙΑΣ</td>\n",
              "      <td>129.445</td>\n",
              "      <td>74.589</td>\n",
              "      <td>57.432</td>\n",
              "    </tr>\n",
              "    <tr>\n",
              "      <th>15</th>\n",
              "      <td>ΜΕΣΣΗΝΙΑΣ</td>\n",
              "      <td>115.154</td>\n",
              "      <td>65187</td>\n",
              "      <td>52599</td>\n",
              "    </tr>\n",
              "    <tr>\n",
              "      <th>16</th>\n",
              "      <td>ΦΘΙΩΤΙΔΑΣ</td>\n",
              "      <td>108181</td>\n",
              "      <td>61.642</td>\n",
              "      <td>48049</td>\n",
              "    </tr>\n",
              "    <tr>\n",
              "      <th>17</th>\n",
              "      <td>ΣΕΡΡΩΝ</td>\n",
              "      <td>105.393</td>\n",
              "      <td>59432</td>\n",
              "      <td>47.476</td>\n",
              "    </tr>\n",
              "    <tr>\n",
              "      <th>18</th>\n",
              "      <td>ΚΟΖΑΝΗΣ</td>\n",
              "      <td>105215</td>\n",
              "      <td>58934</td>\n",
              "      <td>48.989</td>\n",
              "    </tr>\n",
              "    <tr>\n",
              "      <th>19</th>\n",
              "      <td>ΕΒΡΟΥ</td>\n",
              "      <td>104.820</td>\n",
              "      <td>58.794</td>\n",
              "      <td>48.930</td>\n",
              "    </tr>\n",
              "    <tr>\n",
              "      <th>20</th>\n",
              "      <td>ΠΕΛΛΑΣ</td>\n",
              "      <td>103750</td>\n",
              "      <td>56.236</td>\n",
              "      <td>49.779</td>\n",
              "    </tr>\n",
              "    <tr>\n",
              "      <th>21</th>\n",
              "      <td>ΗΛΕΙΑΣ</td>\n",
              "      <td>99750</td>\n",
              "      <td>55814</td>\n",
              "      <td>46430</td>\n",
              "    </tr>\n",
              "    <tr>\n",
              "      <th>22</th>\n",
              "      <td>ΚΟΡΙΝΘΙΑΣ</td>\n",
              "      <td>94.300</td>\n",
              "      <td>55.293</td>\n",
              "      <td>40.772</td>\n",
              "    </tr>\n",
              "    <tr>\n",
              "      <th>23</th>\n",
              "      <td>ΒΟΙΩΤΙΑΣ</td>\n",
              "      <td>92.916</td>\n",
              "      <td>55.204</td>\n",
              "      <td>40.467</td>\n",
              "    </tr>\n",
              "    <tr>\n",
              "      <th>24</th>\n",
              "      <td>ΗΜΑΘΙΑΣ</td>\n",
              "      <td>92148</td>\n",
              "      <td>51161</td>\n",
              "      <td>43261</td>\n",
              "    </tr>\n",
              "    <tr>\n",
              "      <th>25</th>\n",
              "      <td>ΚΕΡΚΥΡΑΣ</td>\n",
              "      <td>91.126</td>\n",
              "      <td>54179</td>\n",
              "      <td>44.550</td>\n",
              "    </tr>\n",
              "    <tr>\n",
              "      <th>26</th>\n",
              "      <td>ΤΡΙΚΑΛΩΝ</td>\n",
              "      <td>89.997</td>\n",
              "      <td>51.386</td>\n",
              "      <td>40.427</td>\n",
              "    </tr>\n",
              "    <tr>\n",
              "      <th>27</th>\n",
              "      <td>ΚΑΒΑΛΑΣ</td>\n",
              "      <td>88833</td>\n",
              "      <td>50.198</td>\n",
              "      <td>40.125</td>\n",
              "    </tr>\n",
              "    <tr>\n",
              "      <th>28</th>\n",
              "      <td>ΠΙΕΡΙΑΣ</td>\n",
              "      <td>88507</td>\n",
              "      <td>49.635</td>\n",
              "      <td>40.322</td>\n",
              "    </tr>\n",
              "    <tr>\n",
              "      <th>29</th>\n",
              "      <td>ΡΟΔΟΥ</td>\n",
              "      <td>87162</td>\n",
              "      <td>59.130</td>\n",
              "      <td>45994</td>\n",
              "    </tr>\n",
              "    <tr>\n",
              "      <th>30</th>\n",
              "      <td>ΚΑΡΔΙΤΣΑΣ</td>\n",
              "      <td>84.857</td>\n",
              "      <td>49228</td>\n",
              "      <td>37.060</td>\n",
              "    </tr>\n",
              "    <tr>\n",
              "      <th>31</th>\n",
              "      <td>ΧΑΛΚΙΔΙΚΗΣ</td>\n",
              "      <td>78.052</td>\n",
              "      <td>43.776</td>\n",
              "      <td>35.658</td>\n",
              "    </tr>\n",
              "    <tr>\n",
              "      <th>32</th>\n",
              "      <td>ΑΡΓΟΛΙΔΑΣ</td>\n",
              "      <td>74.658</td>\n",
              "      <td>43490</td>\n",
              "      <td>34.151</td>\n",
              "    </tr>\n",
              "  </tbody>\n",
              "</table>\n",
              "</div>"
            ],
            "text/plain": [
              "      Περιφερειακή Ενότητα  ... ολοκληρωμένων εμβολιασμών\n",
              "0             ΘΕΣΣΑΛΟΝΙΚΗΣ  ...                  414.359 \n",
              "1   ΚΕΝΤΡΙΚΟΥ ΤΟΜΕΑ ΑΘΗΝΩΝ  ...                  409.565 \n",
              "2     ΒΟΡΕΙΟΥ ΤΟΜΕΑ ΑΘΗΝΩΝ  ...                  358.669 \n",
              "3     ΔΥΤΙΚΟΥ ΤΟΜΕΑ ΑΘΗΝΩΝ  ...                    214693\n",
              "4      ΝΟΤΙΟΥ ΤΟΜΕΑ ΑΘΗΝΩΝ  ...                  173.326 \n",
              "5                 ΠΕΙΡΑΙΩΣ  ...                    103584\n",
              "6                   ΑΧΑΪΑΣ  ...                  103.316 \n",
              "7                ΗΡΑΚΛΕΙΟΥ  ...                   92.049 \n",
              "8                  ΛΑΡΙΣΑΣ  ...                   82.028 \n",
              "9       ΑΝΑΤΟΛΙΚΗΣ ΑΤΤΙΚΗΣ  ...                     78669\n",
              "10               ΜΑΓΝΗΣΙΑΣ  ...                   62.298 \n",
              "11                 ΕΥΒΟΙΑΣ  ...                   63.027 \n",
              "12                  ΧΑΝΙΩΝ  ...                   59.962 \n",
              "13               ΙΩΑΝΝΙΝΩΝ  ...                   58.993 \n",
              "14        ΑΙΤΩΛΟΑΚΑΡΝΑΝΙΑΣ  ...                   57.432 \n",
              "15               ΜΕΣΣΗΝΙΑΣ  ...                     52599\n",
              "16               ΦΘΙΩΤΙΔΑΣ  ...                     48049\n",
              "17                  ΣΕΡΡΩΝ  ...                   47.476 \n",
              "18                 ΚΟΖΑΝΗΣ  ...                   48.989 \n",
              "19                   ΕΒΡΟΥ  ...                   48.930 \n",
              "20                  ΠΕΛΛΑΣ  ...                   49.779 \n",
              "21                  ΗΛΕΙΑΣ  ...                     46430\n",
              "22               ΚΟΡΙΝΘΙΑΣ  ...                   40.772 \n",
              "23                ΒΟΙΩΤΙΑΣ  ...                   40.467 \n",
              "24                 ΗΜΑΘΙΑΣ  ...                     43261\n",
              "25                ΚΕΡΚΥΡΑΣ  ...                   44.550 \n",
              "26                ΤΡΙΚΑΛΩΝ  ...                   40.427 \n",
              "27                 ΚΑΒΑΛΑΣ  ...                   40.125 \n",
              "28                 ΠΙΕΡΙΑΣ  ...                   40.322 \n",
              "29                   ΡΟΔΟΥ  ...                     45994\n",
              "30               ΚΑΡΔΙΤΣΑΣ  ...                   37.060 \n",
              "31              ΧΑΛΚΙΔΙΚΗΣ  ...                   35.658 \n",
              "32               ΑΡΓΟΛΙΔΑΣ  ...                   34.151 \n",
              "\n",
              "[33 rows x 4 columns]"
            ]
          },
          "metadata": {
            "tags": []
          },
          "execution_count": 83
        }
      ]
    },
    {
      "cell_type": "code",
      "metadata": {
        "colab": {
          "base_uri": "https://localhost:8080/"
        },
        "id": "2s4ZOhMbbYEm",
        "outputId": "8cb8793d-721c-49a4-c7f5-35de06a00614"
      },
      "source": [
        "df.shape"
      ],
      "execution_count": null,
      "outputs": [
        {
          "output_type": "execute_result",
          "data": {
            "text/plain": [
              "(33, 4)"
            ]
          },
          "metadata": {
            "tags": []
          },
          "execution_count": 84
        }
      ]
    },
    {
      "cell_type": "code",
      "metadata": {
        "id": "Sit-ZRe8bsBe"
      },
      "source": [
        "#αφαιρούμε τα \"...\" ενδιάμεσα"
      ],
      "execution_count": null,
      "outputs": []
    },
    {
      "cell_type": "code",
      "metadata": {
        "id": "T6VI5FNxboD1"
      },
      "source": [
        "pd.set_option(\"display.max_rows\",75)"
      ],
      "execution_count": null,
      "outputs": []
    },
    {
      "cell_type": "code",
      "metadata": {
        "id": "18Q5oiaScY91"
      },
      "source": [
        "#Δημιουργώ μια λίστα με τα ονόματα των τιμών που λείπουν και καθαρίζω το αρχείο μου από κενές τιμές"
      ],
      "execution_count": null,
      "outputs": []
    },
    {
      "cell_type": "code",
      "metadata": {
        "id": "dyCdq4i7brXy"
      },
      "source": [
        "missing_values = [\"n/a\", \"na\", \"--\", 999] \n",
        " \n",
        "df = pd.read_excel(\"/content/εμβολιασμοί.xlsx\", skiprows = 2, na_values = missing_values)"
      ],
      "execution_count": null,
      "outputs": []
    },
    {
      "cell_type": "code",
      "metadata": {
        "id": "zuaQI4MzqCqs"
      },
      "source": [
        "df.dropna(inplace=True)"
      ],
      "execution_count": null,
      "outputs": []
    },
    {
      "cell_type": "code",
      "metadata": {
        "id": "AMDXBTHdqPnK"
      },
      "source": [
        "df.drop(['Σύνολο εμβολιασμών'], axis=1, inplace=True)\n"
      ],
      "execution_count": null,
      "outputs": []
    },
    {
      "cell_type": "code",
      "metadata": {
        "colab": {
          "base_uri": "https://localhost:8080/",
          "height": 1000
        },
        "id": "ja6iLYe6cSKD",
        "outputId": "1f73c806-613f-4edd-ad08-8e93be1c174f"
      },
      "source": [
        "df"
      ],
      "execution_count": null,
      "outputs": [
        {
          "output_type": "execute_result",
          "data": {
            "text/html": [
              "<div>\n",
              "<style scoped>\n",
              "    .dataframe tbody tr th:only-of-type {\n",
              "        vertical-align: middle;\n",
              "    }\n",
              "\n",
              "    .dataframe tbody tr th {\n",
              "        vertical-align: top;\n",
              "    }\n",
              "\n",
              "    .dataframe thead th {\n",
              "        text-align: right;\n",
              "    }\n",
              "</style>\n",
              "<table border=\"1\" class=\"dataframe\">\n",
              "  <thead>\n",
              "    <tr style=\"text-align: right;\">\n",
              "      <th></th>\n",
              "      <th>Περιφερειακή Ενότητα</th>\n",
              "      <th>με τουλάχιστον 1 δόση</th>\n",
              "      <th>ολοκληρωμένων εμβολιασμών</th>\n",
              "    </tr>\n",
              "  </thead>\n",
              "  <tbody>\n",
              "    <tr>\n",
              "      <th>0</th>\n",
              "      <td>ΘΕΣΣΑΛΟΝΙΚΗΣ</td>\n",
              "      <td>500.970</td>\n",
              "      <td>414.359</td>\n",
              "    </tr>\n",
              "    <tr>\n",
              "      <th>1</th>\n",
              "      <td>ΚΕΝΤΡΙΚΟΥ ΤΟΜΕΑ ΑΘΗΝΩΝ</td>\n",
              "      <td>516.889</td>\n",
              "      <td>409.565</td>\n",
              "    </tr>\n",
              "    <tr>\n",
              "      <th>2</th>\n",
              "      <td>ΒΟΡΕΙΟΥ ΤΟΜΕΑ ΑΘΗΝΩΝ</td>\n",
              "      <td>488.440</td>\n",
              "      <td>358.669</td>\n",
              "    </tr>\n",
              "    <tr>\n",
              "      <th>3</th>\n",
              "      <td>ΔΥΤΙΚΟΥ ΤΟΜΕΑ ΑΘΗΝΩΝ</td>\n",
              "      <td>306.549</td>\n",
              "      <td>214693</td>\n",
              "    </tr>\n",
              "    <tr>\n",
              "      <th>4</th>\n",
              "      <td>ΝΟΤΙΟΥ ΤΟΜΕΑ ΑΘΗΝΩΝ</td>\n",
              "      <td>268.945</td>\n",
              "      <td>173.326</td>\n",
              "    </tr>\n",
              "    <tr>\n",
              "      <th>5</th>\n",
              "      <td>ΠΕΙΡΑΙΩΣ</td>\n",
              "      <td>128.194</td>\n",
              "      <td>103584</td>\n",
              "    </tr>\n",
              "    <tr>\n",
              "      <th>6</th>\n",
              "      <td>ΑΧΑΪΑΣ</td>\n",
              "      <td>128.745</td>\n",
              "      <td>103.316</td>\n",
              "    </tr>\n",
              "    <tr>\n",
              "      <th>7</th>\n",
              "      <td>ΗΡΑΚΛΕΙΟΥ</td>\n",
              "      <td>122.156</td>\n",
              "      <td>92.049</td>\n",
              "    </tr>\n",
              "    <tr>\n",
              "      <th>8</th>\n",
              "      <td>ΛΑΡΙΣΑΣ</td>\n",
              "      <td>107.897</td>\n",
              "      <td>82.028</td>\n",
              "    </tr>\n",
              "    <tr>\n",
              "      <th>9</th>\n",
              "      <td>ΑΝΑΤΟΛΙΚΗΣ ΑΤΤΙΚΗΣ</td>\n",
              "      <td>107.048</td>\n",
              "      <td>78669</td>\n",
              "    </tr>\n",
              "    <tr>\n",
              "      <th>10</th>\n",
              "      <td>ΜΑΓΝΗΣΙΑΣ</td>\n",
              "      <td>79.518</td>\n",
              "      <td>62.298</td>\n",
              "    </tr>\n",
              "    <tr>\n",
              "      <th>11</th>\n",
              "      <td>ΕΥΒΟΙΑΣ</td>\n",
              "      <td>78709</td>\n",
              "      <td>63.027</td>\n",
              "    </tr>\n",
              "    <tr>\n",
              "      <th>12</th>\n",
              "      <td>ΧΑΝΙΩΝ</td>\n",
              "      <td>76.254</td>\n",
              "      <td>59.962</td>\n",
              "    </tr>\n",
              "    <tr>\n",
              "      <th>13</th>\n",
              "      <td>ΙΩΑΝΝΙΝΩΝ</td>\n",
              "      <td>76.503</td>\n",
              "      <td>58.993</td>\n",
              "    </tr>\n",
              "    <tr>\n",
              "      <th>14</th>\n",
              "      <td>ΑΙΤΩΛΟΑΚΑΡΝΑΝΙΑΣ</td>\n",
              "      <td>74.589</td>\n",
              "      <td>57.432</td>\n",
              "    </tr>\n",
              "    <tr>\n",
              "      <th>15</th>\n",
              "      <td>ΜΕΣΣΗΝΙΑΣ</td>\n",
              "      <td>65187</td>\n",
              "      <td>52599</td>\n",
              "    </tr>\n",
              "    <tr>\n",
              "      <th>16</th>\n",
              "      <td>ΦΘΙΩΤΙΔΑΣ</td>\n",
              "      <td>61.642</td>\n",
              "      <td>48049</td>\n",
              "    </tr>\n",
              "    <tr>\n",
              "      <th>17</th>\n",
              "      <td>ΣΕΡΡΩΝ</td>\n",
              "      <td>59432</td>\n",
              "      <td>47.476</td>\n",
              "    </tr>\n",
              "    <tr>\n",
              "      <th>18</th>\n",
              "      <td>ΚΟΖΑΝΗΣ</td>\n",
              "      <td>58934</td>\n",
              "      <td>48.989</td>\n",
              "    </tr>\n",
              "    <tr>\n",
              "      <th>19</th>\n",
              "      <td>ΕΒΡΟΥ</td>\n",
              "      <td>58.794</td>\n",
              "      <td>48.930</td>\n",
              "    </tr>\n",
              "    <tr>\n",
              "      <th>20</th>\n",
              "      <td>ΠΕΛΛΑΣ</td>\n",
              "      <td>56.236</td>\n",
              "      <td>49.779</td>\n",
              "    </tr>\n",
              "    <tr>\n",
              "      <th>21</th>\n",
              "      <td>ΗΛΕΙΑΣ</td>\n",
              "      <td>55814</td>\n",
              "      <td>46430</td>\n",
              "    </tr>\n",
              "    <tr>\n",
              "      <th>22</th>\n",
              "      <td>ΚΟΡΙΝΘΙΑΣ</td>\n",
              "      <td>55.293</td>\n",
              "      <td>40.772</td>\n",
              "    </tr>\n",
              "    <tr>\n",
              "      <th>23</th>\n",
              "      <td>ΒΟΙΩΤΙΑΣ</td>\n",
              "      <td>55.204</td>\n",
              "      <td>40.467</td>\n",
              "    </tr>\n",
              "    <tr>\n",
              "      <th>24</th>\n",
              "      <td>ΗΜΑΘΙΑΣ</td>\n",
              "      <td>51161</td>\n",
              "      <td>43261</td>\n",
              "    </tr>\n",
              "    <tr>\n",
              "      <th>25</th>\n",
              "      <td>ΚΕΡΚΥΡΑΣ</td>\n",
              "      <td>54179</td>\n",
              "      <td>44.550</td>\n",
              "    </tr>\n",
              "    <tr>\n",
              "      <th>26</th>\n",
              "      <td>ΤΡΙΚΑΛΩΝ</td>\n",
              "      <td>51.386</td>\n",
              "      <td>40.427</td>\n",
              "    </tr>\n",
              "    <tr>\n",
              "      <th>27</th>\n",
              "      <td>ΚΑΒΑΛΑΣ</td>\n",
              "      <td>50.198</td>\n",
              "      <td>40.125</td>\n",
              "    </tr>\n",
              "    <tr>\n",
              "      <th>28</th>\n",
              "      <td>ΠΙΕΡΙΑΣ</td>\n",
              "      <td>49.635</td>\n",
              "      <td>40.322</td>\n",
              "    </tr>\n",
              "    <tr>\n",
              "      <th>29</th>\n",
              "      <td>ΡΟΔΟΥ</td>\n",
              "      <td>59.130</td>\n",
              "      <td>45994</td>\n",
              "    </tr>\n",
              "    <tr>\n",
              "      <th>30</th>\n",
              "      <td>ΚΑΡΔΙΤΣΑΣ</td>\n",
              "      <td>49228</td>\n",
              "      <td>37.060</td>\n",
              "    </tr>\n",
              "    <tr>\n",
              "      <th>31</th>\n",
              "      <td>ΧΑΛΚΙΔΙΚΗΣ</td>\n",
              "      <td>43.776</td>\n",
              "      <td>35.658</td>\n",
              "    </tr>\n",
              "    <tr>\n",
              "      <th>32</th>\n",
              "      <td>ΑΡΓΟΛΙΔΑΣ</td>\n",
              "      <td>43490</td>\n",
              "      <td>34.151</td>\n",
              "    </tr>\n",
              "  </tbody>\n",
              "</table>\n",
              "</div>"
            ],
            "text/plain": [
              "      Περιφερειακή Ενότητα με τουλάχιστον 1 δόση ολοκληρωμένων εμβολιασμών\n",
              "0             ΘΕΣΣΑΛΟΝΙΚΗΣ              500.970                   414.359 \n",
              "1   ΚΕΝΤΡΙΚΟΥ ΤΟΜΕΑ ΑΘΗΝΩΝ              516.889                   409.565 \n",
              "2     ΒΟΡΕΙΟΥ ΤΟΜΕΑ ΑΘΗΝΩΝ              488.440                   358.669 \n",
              "3     ΔΥΤΙΚΟΥ ΤΟΜΕΑ ΑΘΗΝΩΝ              306.549                     214693\n",
              "4      ΝΟΤΙΟΥ ΤΟΜΕΑ ΑΘΗΝΩΝ              268.945                   173.326 \n",
              "5                 ΠΕΙΡΑΙΩΣ              128.194                     103584\n",
              "6                   ΑΧΑΪΑΣ              128.745                   103.316 \n",
              "7                ΗΡΑΚΛΕΙΟΥ              122.156                    92.049 \n",
              "8                  ΛΑΡΙΣΑΣ              107.897                    82.028 \n",
              "9       ΑΝΑΤΟΛΙΚΗΣ ΑΤΤΙΚΗΣ              107.048                      78669\n",
              "10               ΜΑΓΝΗΣΙΑΣ               79.518                    62.298 \n",
              "11                 ΕΥΒΟΙΑΣ                 78709                   63.027 \n",
              "12                  ΧΑΝΙΩΝ               76.254                    59.962 \n",
              "13               ΙΩΑΝΝΙΝΩΝ               76.503                    58.993 \n",
              "14        ΑΙΤΩΛΟΑΚΑΡΝΑΝΙΑΣ               74.589                    57.432 \n",
              "15               ΜΕΣΣΗΝΙΑΣ                 65187                     52599\n",
              "16               ΦΘΙΩΤΙΔΑΣ               61.642                      48049\n",
              "17                  ΣΕΡΡΩΝ                 59432                   47.476 \n",
              "18                 ΚΟΖΑΝΗΣ                 58934                   48.989 \n",
              "19                   ΕΒΡΟΥ               58.794                    48.930 \n",
              "20                  ΠΕΛΛΑΣ               56.236                    49.779 \n",
              "21                  ΗΛΕΙΑΣ                 55814                     46430\n",
              "22               ΚΟΡΙΝΘΙΑΣ               55.293                    40.772 \n",
              "23                ΒΟΙΩΤΙΑΣ               55.204                    40.467 \n",
              "24                 ΗΜΑΘΙΑΣ                 51161                     43261\n",
              "25                ΚΕΡΚΥΡΑΣ                 54179                   44.550 \n",
              "26                ΤΡΙΚΑΛΩΝ               51.386                    40.427 \n",
              "27                 ΚΑΒΑΛΑΣ               50.198                    40.125 \n",
              "28                 ΠΙΕΡΙΑΣ               49.635                    40.322 \n",
              "29                   ΡΟΔΟΥ               59.130                      45994\n",
              "30               ΚΑΡΔΙΤΣΑΣ                 49228                   37.060 \n",
              "31              ΧΑΛΚΙΔΙΚΗΣ               43.776                    35.658 \n",
              "32               ΑΡΓΟΛΙΔΑΣ                 43490                   34.151 "
            ]
          },
          "metadata": {
            "tags": []
          },
          "execution_count": 92
        }
      ]
    },
    {
      "cell_type": "code",
      "metadata": {
        "id": "tc4IiycXgoCA"
      },
      "source": [
        "df_15 = df.loc [0:14]"
      ],
      "execution_count": null,
      "outputs": []
    },
    {
      "cell_type": "code",
      "metadata": {
        "colab": {
          "base_uri": "https://localhost:8080/",
          "height": 511
        },
        "id": "JrwyxbQ6mlgp",
        "outputId": "58d6126e-e528-46c8-aa67-35d9e3891e38"
      },
      "source": [
        "df_15"
      ],
      "execution_count": null,
      "outputs": [
        {
          "output_type": "execute_result",
          "data": {
            "text/html": [
              "<div>\n",
              "<style scoped>\n",
              "    .dataframe tbody tr th:only-of-type {\n",
              "        vertical-align: middle;\n",
              "    }\n",
              "\n",
              "    .dataframe tbody tr th {\n",
              "        vertical-align: top;\n",
              "    }\n",
              "\n",
              "    .dataframe thead th {\n",
              "        text-align: right;\n",
              "    }\n",
              "</style>\n",
              "<table border=\"1\" class=\"dataframe\">\n",
              "  <thead>\n",
              "    <tr style=\"text-align: right;\">\n",
              "      <th></th>\n",
              "      <th>Περιφερειακή Ενότητα</th>\n",
              "      <th>με τουλάχιστον 1 δόση</th>\n",
              "      <th>ολοκληρωμένων εμβολιασμών</th>\n",
              "    </tr>\n",
              "  </thead>\n",
              "  <tbody>\n",
              "    <tr>\n",
              "      <th>0</th>\n",
              "      <td>ΘΕΣΣΑΛΟΝΙΚΗΣ</td>\n",
              "      <td>500.970</td>\n",
              "      <td>414.359</td>\n",
              "    </tr>\n",
              "    <tr>\n",
              "      <th>1</th>\n",
              "      <td>ΚΕΝΤΡΙΚΟΥ ΤΟΜΕΑ ΑΘΗΝΩΝ</td>\n",
              "      <td>516.889</td>\n",
              "      <td>409.565</td>\n",
              "    </tr>\n",
              "    <tr>\n",
              "      <th>2</th>\n",
              "      <td>ΒΟΡΕΙΟΥ ΤΟΜΕΑ ΑΘΗΝΩΝ</td>\n",
              "      <td>488.440</td>\n",
              "      <td>358.669</td>\n",
              "    </tr>\n",
              "    <tr>\n",
              "      <th>3</th>\n",
              "      <td>ΔΥΤΙΚΟΥ ΤΟΜΕΑ ΑΘΗΝΩΝ</td>\n",
              "      <td>306.549</td>\n",
              "      <td>214693</td>\n",
              "    </tr>\n",
              "    <tr>\n",
              "      <th>4</th>\n",
              "      <td>ΝΟΤΙΟΥ ΤΟΜΕΑ ΑΘΗΝΩΝ</td>\n",
              "      <td>268.945</td>\n",
              "      <td>173.326</td>\n",
              "    </tr>\n",
              "    <tr>\n",
              "      <th>5</th>\n",
              "      <td>ΠΕΙΡΑΙΩΣ</td>\n",
              "      <td>128.194</td>\n",
              "      <td>103584</td>\n",
              "    </tr>\n",
              "    <tr>\n",
              "      <th>6</th>\n",
              "      <td>ΑΧΑΪΑΣ</td>\n",
              "      <td>128.745</td>\n",
              "      <td>103.316</td>\n",
              "    </tr>\n",
              "    <tr>\n",
              "      <th>7</th>\n",
              "      <td>ΗΡΑΚΛΕΙΟΥ</td>\n",
              "      <td>122.156</td>\n",
              "      <td>92.049</td>\n",
              "    </tr>\n",
              "    <tr>\n",
              "      <th>8</th>\n",
              "      <td>ΛΑΡΙΣΑΣ</td>\n",
              "      <td>107.897</td>\n",
              "      <td>82.028</td>\n",
              "    </tr>\n",
              "    <tr>\n",
              "      <th>9</th>\n",
              "      <td>ΑΝΑΤΟΛΙΚΗΣ ΑΤΤΙΚΗΣ</td>\n",
              "      <td>107.048</td>\n",
              "      <td>78669</td>\n",
              "    </tr>\n",
              "    <tr>\n",
              "      <th>10</th>\n",
              "      <td>ΜΑΓΝΗΣΙΑΣ</td>\n",
              "      <td>79.518</td>\n",
              "      <td>62.298</td>\n",
              "    </tr>\n",
              "    <tr>\n",
              "      <th>11</th>\n",
              "      <td>ΕΥΒΟΙΑΣ</td>\n",
              "      <td>78709</td>\n",
              "      <td>63.027</td>\n",
              "    </tr>\n",
              "    <tr>\n",
              "      <th>12</th>\n",
              "      <td>ΧΑΝΙΩΝ</td>\n",
              "      <td>76.254</td>\n",
              "      <td>59.962</td>\n",
              "    </tr>\n",
              "    <tr>\n",
              "      <th>13</th>\n",
              "      <td>ΙΩΑΝΝΙΝΩΝ</td>\n",
              "      <td>76.503</td>\n",
              "      <td>58.993</td>\n",
              "    </tr>\n",
              "    <tr>\n",
              "      <th>14</th>\n",
              "      <td>ΑΙΤΩΛΟΑΚΑΡΝΑΝΙΑΣ</td>\n",
              "      <td>74.589</td>\n",
              "      <td>57.432</td>\n",
              "    </tr>\n",
              "  </tbody>\n",
              "</table>\n",
              "</div>"
            ],
            "text/plain": [
              "      Περιφερειακή Ενότητα με τουλάχιστον 1 δόση ολοκληρωμένων εμβολιασμών\n",
              "0             ΘΕΣΣΑΛΟΝΙΚΗΣ              500.970                   414.359 \n",
              "1   ΚΕΝΤΡΙΚΟΥ ΤΟΜΕΑ ΑΘΗΝΩΝ              516.889                   409.565 \n",
              "2     ΒΟΡΕΙΟΥ ΤΟΜΕΑ ΑΘΗΝΩΝ              488.440                   358.669 \n",
              "3     ΔΥΤΙΚΟΥ ΤΟΜΕΑ ΑΘΗΝΩΝ              306.549                     214693\n",
              "4      ΝΟΤΙΟΥ ΤΟΜΕΑ ΑΘΗΝΩΝ              268.945                   173.326 \n",
              "5                 ΠΕΙΡΑΙΩΣ              128.194                     103584\n",
              "6                   ΑΧΑΪΑΣ              128.745                   103.316 \n",
              "7                ΗΡΑΚΛΕΙΟΥ              122.156                    92.049 \n",
              "8                  ΛΑΡΙΣΑΣ              107.897                    82.028 \n",
              "9       ΑΝΑΤΟΛΙΚΗΣ ΑΤΤΙΚΗΣ              107.048                      78669\n",
              "10               ΜΑΓΝΗΣΙΑΣ               79.518                    62.298 \n",
              "11                 ΕΥΒΟΙΑΣ                 78709                   63.027 \n",
              "12                  ΧΑΝΙΩΝ               76.254                    59.962 \n",
              "13               ΙΩΑΝΝΙΝΩΝ               76.503                    58.993 \n",
              "14        ΑΙΤΩΛΟΑΚΑΡΝΑΝΙΑΣ               74.589                    57.432 "
            ]
          },
          "metadata": {
            "tags": []
          },
          "execution_count": 95
        }
      ]
    },
    {
      "cell_type": "code",
      "metadata": {
        "id": "aQ0NAOjcmlej"
      },
      "source": [
        "df_15b = df.loc [15:30]\n"
      ],
      "execution_count": null,
      "outputs": []
    },
    {
      "cell_type": "code",
      "metadata": {
        "colab": {
          "base_uri": "https://localhost:8080/",
          "height": 541
        },
        "id": "I61xdjp2mlcN",
        "outputId": "cf873079-29fe-4076-c9da-b1c2d2e5d77a"
      },
      "source": [
        "df_15b"
      ],
      "execution_count": null,
      "outputs": [
        {
          "output_type": "execute_result",
          "data": {
            "text/html": [
              "<div>\n",
              "<style scoped>\n",
              "    .dataframe tbody tr th:only-of-type {\n",
              "        vertical-align: middle;\n",
              "    }\n",
              "\n",
              "    .dataframe tbody tr th {\n",
              "        vertical-align: top;\n",
              "    }\n",
              "\n",
              "    .dataframe thead th {\n",
              "        text-align: right;\n",
              "    }\n",
              "</style>\n",
              "<table border=\"1\" class=\"dataframe\">\n",
              "  <thead>\n",
              "    <tr style=\"text-align: right;\">\n",
              "      <th></th>\n",
              "      <th>Περιφερειακή Ενότητα</th>\n",
              "      <th>με τουλάχιστον 1 δόση</th>\n",
              "      <th>ολοκληρωμένων εμβολιασμών</th>\n",
              "    </tr>\n",
              "  </thead>\n",
              "  <tbody>\n",
              "    <tr>\n",
              "      <th>15</th>\n",
              "      <td>ΜΕΣΣΗΝΙΑΣ</td>\n",
              "      <td>65187</td>\n",
              "      <td>52599</td>\n",
              "    </tr>\n",
              "    <tr>\n",
              "      <th>16</th>\n",
              "      <td>ΦΘΙΩΤΙΔΑΣ</td>\n",
              "      <td>61.642</td>\n",
              "      <td>48049</td>\n",
              "    </tr>\n",
              "    <tr>\n",
              "      <th>17</th>\n",
              "      <td>ΣΕΡΡΩΝ</td>\n",
              "      <td>59432</td>\n",
              "      <td>47.476</td>\n",
              "    </tr>\n",
              "    <tr>\n",
              "      <th>18</th>\n",
              "      <td>ΚΟΖΑΝΗΣ</td>\n",
              "      <td>58934</td>\n",
              "      <td>48.989</td>\n",
              "    </tr>\n",
              "    <tr>\n",
              "      <th>19</th>\n",
              "      <td>ΕΒΡΟΥ</td>\n",
              "      <td>58.794</td>\n",
              "      <td>48.930</td>\n",
              "    </tr>\n",
              "    <tr>\n",
              "      <th>20</th>\n",
              "      <td>ΠΕΛΛΑΣ</td>\n",
              "      <td>56.236</td>\n",
              "      <td>49.779</td>\n",
              "    </tr>\n",
              "    <tr>\n",
              "      <th>21</th>\n",
              "      <td>ΗΛΕΙΑΣ</td>\n",
              "      <td>55814</td>\n",
              "      <td>46430</td>\n",
              "    </tr>\n",
              "    <tr>\n",
              "      <th>22</th>\n",
              "      <td>ΚΟΡΙΝΘΙΑΣ</td>\n",
              "      <td>55.293</td>\n",
              "      <td>40.772</td>\n",
              "    </tr>\n",
              "    <tr>\n",
              "      <th>23</th>\n",
              "      <td>ΒΟΙΩΤΙΑΣ</td>\n",
              "      <td>55.204</td>\n",
              "      <td>40.467</td>\n",
              "    </tr>\n",
              "    <tr>\n",
              "      <th>24</th>\n",
              "      <td>ΗΜΑΘΙΑΣ</td>\n",
              "      <td>51161</td>\n",
              "      <td>43261</td>\n",
              "    </tr>\n",
              "    <tr>\n",
              "      <th>25</th>\n",
              "      <td>ΚΕΡΚΥΡΑΣ</td>\n",
              "      <td>54179</td>\n",
              "      <td>44.550</td>\n",
              "    </tr>\n",
              "    <tr>\n",
              "      <th>26</th>\n",
              "      <td>ΤΡΙΚΑΛΩΝ</td>\n",
              "      <td>51.386</td>\n",
              "      <td>40.427</td>\n",
              "    </tr>\n",
              "    <tr>\n",
              "      <th>27</th>\n",
              "      <td>ΚΑΒΑΛΑΣ</td>\n",
              "      <td>50.198</td>\n",
              "      <td>40.125</td>\n",
              "    </tr>\n",
              "    <tr>\n",
              "      <th>28</th>\n",
              "      <td>ΠΙΕΡΙΑΣ</td>\n",
              "      <td>49.635</td>\n",
              "      <td>40.322</td>\n",
              "    </tr>\n",
              "    <tr>\n",
              "      <th>29</th>\n",
              "      <td>ΡΟΔΟΥ</td>\n",
              "      <td>59.130</td>\n",
              "      <td>45994</td>\n",
              "    </tr>\n",
              "    <tr>\n",
              "      <th>30</th>\n",
              "      <td>ΚΑΡΔΙΤΣΑΣ</td>\n",
              "      <td>49228</td>\n",
              "      <td>37.060</td>\n",
              "    </tr>\n",
              "  </tbody>\n",
              "</table>\n",
              "</div>"
            ],
            "text/plain": [
              "   Περιφερειακή Ενότητα με τουλάχιστον 1 δόση ολοκληρωμένων εμβολιασμών\n",
              "15            ΜΕΣΣΗΝΙΑΣ                 65187                     52599\n",
              "16            ΦΘΙΩΤΙΔΑΣ               61.642                      48049\n",
              "17               ΣΕΡΡΩΝ                 59432                   47.476 \n",
              "18              ΚΟΖΑΝΗΣ                 58934                   48.989 \n",
              "19                ΕΒΡΟΥ               58.794                    48.930 \n",
              "20               ΠΕΛΛΑΣ               56.236                    49.779 \n",
              "21               ΗΛΕΙΑΣ                 55814                     46430\n",
              "22            ΚΟΡΙΝΘΙΑΣ               55.293                    40.772 \n",
              "23             ΒΟΙΩΤΙΑΣ               55.204                    40.467 \n",
              "24              ΗΜΑΘΙΑΣ                 51161                     43261\n",
              "25             ΚΕΡΚΥΡΑΣ                 54179                   44.550 \n",
              "26             ΤΡΙΚΑΛΩΝ               51.386                    40.427 \n",
              "27              ΚΑΒΑΛΑΣ               50.198                    40.125 \n",
              "28              ΠΙΕΡΙΑΣ               49.635                    40.322 \n",
              "29                ΡΟΔΟΥ               59.130                      45994\n",
              "30            ΚΑΡΔΙΤΣΑΣ                 49228                   37.060 "
            ]
          },
          "metadata": {
            "tags": []
          },
          "execution_count": 97
        }
      ]
    },
    {
      "cell_type": "code",
      "metadata": {
        "colab": {
          "base_uri": "https://localhost:8080/"
        },
        "id": "5RKapPQqrj7Y",
        "outputId": "06e49b93-e6b4-4297-b670-6b735d562784"
      },
      "source": [
        "df.dtypes"
      ],
      "execution_count": null,
      "outputs": [
        {
          "output_type": "execute_result",
          "data": {
            "text/plain": [
              "Περιφερειακή Ενότητα         object\n",
              "με τουλάχιστον 1 δόση        object\n",
              "ολοκληρωμένων εμβολιασμών    object\n",
              "dtype: object"
            ]
          },
          "metadata": {
            "tags": []
          },
          "execution_count": 100
        }
      ]
    },
    {
      "cell_type": "code",
      "metadata": {
        "id": "V9VhXfrwPJWK",
        "colab": {
          "base_uri": "https://localhost:8080/",
          "height": 452
        },
        "outputId": "c13ba836-d302-455f-bdae-e9a3aa271078"
      },
      "source": [
        "import matplotlib.pyplot as plt; plt.rcdefaults()\n",
        "import numpy as np\n",
        "import matplotlib.pyplot as plt\n",
        "\n",
        "objects = ('ΘΕΣ', 'Κ.Τ.ΑΘΗΝΩΝ', 'ΑΧΑΪΑΣ', 'ΗΡΑΚΛΕΙΟΥ', 'ΜΕΣΣΗΝΙΑΣ')\n",
        "y_pos = np.arange(len(objects))\n",
        "performance = [500.970,516.889,128.745,122.156,65.187]\n",
        "\n",
        "plt.bar(y_pos, performance, align='center', alpha=0.5)\n",
        "plt.xticks(y_pos, objects)\n",
        "plt.ylabel('ΑΡΙΘΜΟΣ ΕΜΒΟΛΙΑΣΜΕΝΩΝ ΜΕ 1 ΔΟΣΗ(ΣΕ ΧΙΛΙΑΔΕΣ)')\n",
        "plt.title('ΕΜΒΟΛΙΑΣΜΟΙ ΠΑΝΕΛΛΑΔΙΚΑ ΕΩΣ 30/06/2021')\n",
        "\n",
        "plt.show()"
      ],
      "execution_count": null,
      "outputs": [
        {
          "output_type": "display_data",
          "data": {
            "image/png": "[encoded data removed]",
            "text/plain": [
              "<Figure size 640x480 with 1 Axes>"
            ]
          },
          "metadata": {
            "tags": []
          }
        }
      ]
    },
    {
      "cell_type": "code",
      "metadata": {
        "colab": {
          "base_uri": "https://localhost:8080/",
          "height": 452
        },
        "id": "Mgwyo9IV49MP",
        "outputId": "eb9349cf-7025-4f47-b38c-e19565d4688d"
      },
      "source": [
        "import matplotlib.pyplot as plt; plt.rcdefaults()\n",
        "import numpy as np\n",
        "import matplotlib.pyplot as plt\n",
        "\n",
        "objects = ('ΘΕΣ', 'Κ.Τ.ΑΘΗΝΩΝ', 'ΑΧΑΪΑΣ', 'ΗΡΑΚΛΕΙΟΥ', 'ΜΕΣΣΗΝΙΑΣ')\n",
        "y_pos = np.arange(len(objects))\n",
        "performance = [414.359,409.565,103.316,92.049,52.599]\n",
        "\n",
        "plt.bar(y_pos, performance, align='center', alpha=0.5,color='red')\n",
        "plt.xticks(y_pos, objects)\n",
        "plt.ylabel('ΑΡΙΘΜΟΣ ΕΜΒΟΛΙΑΣΜΕΝΩΝ ΜΕ 2 ΔΟΣΕΙΣ')\n",
        "plt.title('ΕΜΒΟΛΙΑΣΜΟΙ ΠΑΝΕΛΛΑΔΙΚΑ ΕΩΣ ΤΙΣ 30/06/2021')\n",
        "\n",
        "plt.show()"
      ],
      "execution_count": null,
      "outputs": [
        {
          "output_type": "display_data",
          "data": {
            "image/png": "[encoded data removed]",
            "text/plain": [
              "<Figure size 640x480 with 1 Axes>"
            ]
          },
          "metadata": {
            "tags": []
          }
        }
      ]
    },
    {
      "cell_type": "code",
      "metadata": {
        "colab": {
          "base_uri": "https://localhost:8080/",
          "height": 295
        },
        "id": "D2UY0WAaGbY0",
        "outputId": "16005639-255c-4197-9a3a-75f10f11534b"
      },
      "source": [
        "import matplotlib.pyplot as plt\n",
        "import numpy as np\n",
        "\n",
        "# Data for plotting\n",
        "t = np.arange(0.0, 2.0, 0.01)\n",
        "s = 1 + np.sin(2 * np.pi * t)\n",
        "\n",
        "fig, ax = plt.subplots()\n",
        "ax.plot(t, s)\n",
        "\n",
        "ax.set(xlabel='time (s)', ylabel='voltage (mV)',\n",
        "       title='εμβολιασμοί πανελλαδικά')\n",
        "ax.grid()\n",
        "\n",
        "fig.savefig(\"test.png\")\n",
        "plt.show()"
      ],
      "execution_count": null,
      "outputs": [
        {
          "output_type": "display_data",
          "data": {
            "image/png": "[encoded data removed]",
            "text/plain": [
              "<Figure size 432x288 with 1 Axes>"
            ]
          },
          "metadata": {
            "tags": [],
            "needs_background": "light"
          }
        }
      ]
    }
  ]
}